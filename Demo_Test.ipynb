{
 "cells": [
  {
   "cell_type": "markdown",
   "metadata": {},
   "source": [
    "# API Demo and Testing\n",
    "Notebook to demonstrate API use case and unit testing."
   ]
  },
  {
   "cell_type": "code",
   "execution_count": 1,
   "metadata": {},
   "outputs": [],
   "source": [
    "import requests\n",
    "import numpy as np\n",
    "import matplotlib.pyplot as plt"
   ]
  },
  {
   "cell_type": "markdown",
   "metadata": {},
   "source": [
    "## DEMO\n",
    "Demonstrating functionalities of API based on provided example."
   ]
  },
  {
   "cell_type": "code",
   "execution_count": 2,
   "metadata": {},
   "outputs": [],
   "source": [
    "# Define URL\n",
    "# url = 'http://127.0.0.1:5000/' # -> USE THIS TO TEST LOCAL APPLICATION\n",
    "url = 'http://127.0.0.1:8080/'  # -> USE THIS TO TEST DOCKER IMAGE"
   ]
  },
  {
   "cell_type": "markdown",
   "metadata": {},
   "source": [
    "### POST: compute_coordinates\n",
    "This endpoint computes pixel coordinate values for an image that is to be displayed on a 2D surface, given the dimensions of the image and teh corner points of the image as it is to be displayed."
   ]
  },
  {
   "cell_type": "code",
   "execution_count": 3,
   "metadata": {},
   "outputs": [],
   "source": [
    "# Define arguments\n",
    "payload = {\n",
    "    'img_dim': (4, 12),\n",
    "    'corner_points': [(1, 1),(3, 1), (1, 3), (3, 3)]\n",
    "}\n",
    "\n",
    "# Make POST request to compute_coordinates endpoint\n",
    "response = requests.post(url + 'compute_coordinates', json = payload)\n",
    "\n",
    "# Get JSON respose\n",
    "solution = response.json()"
   ]
  },
  {
   "cell_type": "markdown",
   "metadata": {},
   "source": [
    "The response will be a dictionary with either a key 'solution' (given valid input) or 'message' (given invalid input). 'solution' is a list of all the coordinates, starting from the top of the image plane, organized by row."
   ]
  },
  {
   "cell_type": "code",
   "execution_count": 4,
   "metadata": {},
   "outputs": [
    {
     "data": {
      "text/plain": [
       "{'solution': [[[1.0, 3.0],\n",
       "   [1.1818181818181819, 3.0],\n",
       "   [1.3636363636363638, 3.0],\n",
       "   [1.5454545454545454, 3.0],\n",
       "   [1.7272727272727273, 3.0],\n",
       "   [1.9090909090909092, 3.0],\n",
       "   [2.090909090909091, 3.0],\n",
       "   [2.2727272727272725, 3.0],\n",
       "   [2.4545454545454546, 3.0],\n",
       "   [2.6363636363636367, 3.0],\n",
       "   [2.8181818181818183, 3.0],\n",
       "   [3.0, 3.0]],\n",
       "  [[1.0, 2.3333333333333335],\n",
       "   [1.1818181818181819, 2.3333333333333335],\n",
       "   [1.3636363636363638, 2.3333333333333335],\n",
       "   [1.5454545454545454, 2.3333333333333335],\n",
       "   [1.7272727272727273, 2.3333333333333335],\n",
       "   [1.9090909090909092, 2.3333333333333335],\n",
       "   [2.090909090909091, 2.3333333333333335],\n",
       "   [2.2727272727272725, 2.3333333333333335],\n",
       "   [2.4545454545454546, 2.3333333333333335],\n",
       "   [2.6363636363636367, 2.3333333333333335],\n",
       "   [2.8181818181818183, 2.3333333333333335],\n",
       "   [3.0, 2.3333333333333335]],\n",
       "  [[1.0, 1.6666666666666667],\n",
       "   [1.1818181818181819, 1.6666666666666667],\n",
       "   [1.3636363636363638, 1.6666666666666667],\n",
       "   [1.5454545454545454, 1.6666666666666667],\n",
       "   [1.7272727272727273, 1.6666666666666667],\n",
       "   [1.9090909090909092, 1.6666666666666667],\n",
       "   [2.090909090909091, 1.6666666666666667],\n",
       "   [2.2727272727272725, 1.6666666666666667],\n",
       "   [2.4545454545454546, 1.6666666666666667],\n",
       "   [2.6363636363636367, 1.6666666666666667],\n",
       "   [2.8181818181818183, 1.6666666666666667],\n",
       "   [3.0, 1.6666666666666667]],\n",
       "  [[1.0, 1.0],\n",
       "   [1.1818181818181819, 1.0],\n",
       "   [1.3636363636363638, 1.0],\n",
       "   [1.5454545454545454, 1.0],\n",
       "   [1.7272727272727273, 1.0],\n",
       "   [1.9090909090909092, 1.0],\n",
       "   [2.090909090909091, 1.0],\n",
       "   [2.2727272727272725, 1.0],\n",
       "   [2.4545454545454546, 1.0],\n",
       "   [2.6363636363636367, 1.0],\n",
       "   [2.8181818181818183, 1.0],\n",
       "   [3.0, 1.0]]]}"
      ]
     },
     "execution_count": 4,
     "metadata": {},
     "output_type": "execute_result"
    }
   ],
   "source": [
    "# View response\n",
    "solution"
   ]
  },
  {
   "cell_type": "markdown",
   "metadata": {},
   "source": [
    "### POST: plot_solution\n",
    "This endpoint will plot pixel coordinates resulting from a successful 'compute_coordinates' request. It takes the JSON response from 'compute_coordinates' directly. "
   ]
  },
  {
   "cell_type": "code",
   "execution_count": 5,
   "metadata": {},
   "outputs": [],
   "source": [
    "# Make POST request to plot_solution endpoint using the above solution\n",
    "response = requests.post(url + 'plot_solution', json = solution)\n",
    "\n",
    "# Get JSON response\n",
    "points = response.json()"
   ]
  },
  {
   "cell_type": "markdown",
   "metadata": {},
   "source": [
    "The response will be a dictionary with either a key 'plot' (given valid input) or 'message' (given invalid input). 'key' is a list representing an NumPy image array. It must be converted to a NumPy array to be plotted/saved as an image."
   ]
  },
  {
   "cell_type": "code",
   "execution_count": 6,
   "metadata": {},
   "outputs": [
    {
     "data": {
      "text/plain": [
       "(480, 640, 3)"
      ]
     },
     "execution_count": 6,
     "metadata": {},
     "output_type": "execute_result"
    }
   ],
   "source": [
    "# Convert points to an array\n",
    "points = np.array(response.json()['plot'])\n",
    "\n",
    "# View dimensions\n",
    "points.shape"
   ]
  },
  {
   "cell_type": "code",
   "execution_count": 7,
   "metadata": {},
   "outputs": [
    {
     "data": {
      "image/png": "[encoded data removed]",
      "text/plain": [
       "<Figure size 432x288 with 1 Axes>"
      ]
     },
     "metadata": {
      "needs_background": "light"
     },
     "output_type": "display_data"
    }
   ],
   "source": [
    "# Plot results\n",
    "plt.imshow(points)\n",
    "plt.axis('off')\n",
    "plt.show()"
   ]
  },
  {
   "cell_type": "markdown",
   "metadata": {},
   "source": [
    "## TESTS\n",
    "Showing test results from tests/test_endpoints.py."
   ]
  },
  {
   "cell_type": "code",
   "execution_count": 8,
   "metadata": {},
   "outputs": [],
   "source": [
    "#### Test 1: Validating coordinates input ####\n",
    "def test_input(url):\n",
    "    # Invalid coordinate dimensions\n",
    "    payload = {\n",
    "    'img_dim': (0, 1),\n",
    "    'corner_points': [(1, 1),(3, 1), (1, 3), (3, 3)]\n",
    "    }\n",
    "    res1 = requests.post(url + '/compute_coordinates', json = payload)\n",
    "    assert res1.status_code == 501, 'FAIL'\n",
    "\n",
    "    # Invalid number of points\n",
    "    payload = {\n",
    "    'img_dim': (3, 3),\n",
    "    'corner_points': [(1, 1),(3, 1), (1, 3), (3, 3), (3, 4)]\n",
    "    }\n",
    "    res2 = requests.post(url + '/compute_coordinates', json = payload)\n",
    "    assert res2.status_code == 502, 'FAIL'\n",
    "\n",
    "    # Invalid rectangle\n",
    "    payload = {\n",
    "    'img_dim': (3, 3),\n",
    "    'corner_points': [(1, 1),(3, 1), (1, 3), (4, 3)]\n",
    "    }\n",
    "    res3 = requests.post(url + '/compute_coordinates', json = payload)\n",
    "    assert res3.status_code == 503, 'FAIL'\n",
    "\n",
    "    # Valid rectangle\n",
    "    payload = {\n",
    "    'img_dim': (3, 3),\n",
    "    'corner_points': [(1, 1),(3, 1), (1, 3), (3, 3)]\n",
    "    }\n",
    "    res4 = requests.post(url + '/compute_coordinates', json = payload)\n",
    "    assert res4.status_code == 201, 'FAIL'\n",
    "    \n",
    "    return\n",
    "\n",
    "\n",
    "#### Test 2: Checking compute_coordinates output ####\n",
    "def test_coords(url):\n",
    "    # Example 1\n",
    "    payload = {\n",
    "    'img_dim': (3, 3),\n",
    "    'corner_points': [(1, 1),(3, 1), (1, 3), (3, 3)]\n",
    "    }\n",
    "    res1 = requests.post(url + '/compute_coordinates', json = payload)\n",
    "    assert res1.status_code == 201, 'FAIL'\n",
    "    json1 = res1.json()\n",
    "    assert 'solution' in json1, 'FAIL'\n",
    "    assert json1['solution'] == [[[1.0, 3.0], [2.0, 3.0], [3.0, 3.0]],[[1.0, 2.0], [2.0, 2.0], [3.0, 2.0]], [[1.0, 1.0], [2.0, 1.0], [3.0, 1.0]]], 'FAIL'\n",
    "\n",
    "    # Example 2\n",
    "    payload = {\n",
    "    'img_dim': (4, 5),\n",
    "    'corner_points': [(1.5, 8.0),(4.0, 8.0), (1.5, 1.5), (4.0, 1.5)]\n",
    "    }\n",
    "    res2 = requests.post(url + '/compute_coordinates', json = payload)\n",
    "    json2 = res2.json()\n",
    "    assert 'solution' in json2, 'FAIL'\n",
    "    assert json2['solution'] == [[[1.5, 8.0],[2.125, 8.0],[2.75, 8.0],[3.375, 8.0],[4.0, 8.0]],[[1.5, 5.833333333333334],[2.125, 5.833333333333334],[2.75, 5.833333333333334],[3.375, 5.833333333333334],[4.0, 5.833333333333334]],[[1.5, 3.666666666666667],[2.125, 3.666666666666667],[2.75, 3.666666666666667],[3.375, 3.666666666666667],[4.0, 3.666666666666667]],[[1.5, 1.5], [2.125, 1.5], [2.75, 1.5], [3.375, 1.5], [4.0, 1.5]]], 'FAIL'\n",
    "\n",
    "    return\n",
    "\n",
    "\n",
    "#### Test 3: Testing plot_solution output ####\n",
    "def test_plots(url):\n",
    "    # Success example\n",
    "    payload = {\n",
    "        'solution': [[[1.0, 3.0], [2.0, 3.0], [3.0, 3.0]],[[1.0, 2.0], [2.0, 2.0], [3.0, 2.0]], [[1.0, 1.0], [2.0, 1.0], [3.0, 1.0]]]\n",
    "    }\n",
    "    res1 = requests.post(url + '/plot_solution', json = payload)\n",
    "    json1 = res1.json()\n",
    "    assert res1.status_code == 201, 'FAIL'\n",
    "    assert 'plot' in json1, 'FAIL'\n",
    "\n",
    "    # Fail example\n",
    "    payload = {\n",
    "        'message': 'ValueError: Image dimensions invalid. Required format: (height > 0, width > 0).'\n",
    "    }\n",
    "    res2 = requests.post(url + '/plot_solution', json = payload)\n",
    "    json2 = res2.json()\n",
    "    assert res2.status_code == 400, 'FAIL'\n",
    "    assert 'message' in json2, 'FAIL'\n",
    "\n",
    "    return"
   ]
  },
  {
   "cell_type": "code",
   "execution_count": 9,
   "metadata": {},
   "outputs": [],
   "source": [
    "# Run tests: If they all pass, no output. If any fail, there will be an AssertionError\n",
    "test_input(url)\n",
    "test_coords(url)\n",
    "test_plots(url)"
   ]
  }
 ],
 "metadata": {
  "interpreter": {
   "hash": "a66401ce498b556f5676cd9bed5368af94c884471f6de5a93d071d76c86f9fed"
  },
  "kernelspec": {
   "display_name": "Python 3.9.7 ('base')",
   "language": "python",
   "name": "python3"
  },
  "language_info": {
   "codemirror_mode": {
    "name": "ipython",
    "version": 3
   },
   "file_extension": ".py",
   "mimetype": "text/x-python",
   "name": "python",
   "nbconvert_exporter": "python",
   "pygments_lexer": "ipython3",
   "version": "3.9.7"
  },
  "orig_nbformat": 4
 },
 "nbformat": 4,
 "nbformat_minor": 2
}
